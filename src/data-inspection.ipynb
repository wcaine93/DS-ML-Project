{
  "cells": [
    {
      "cell_type": "markdown",
      "metadata": {
        "id": "view-in-github",
        "colab_type": "text"
      },
      "source": [
        "<a href=\"https://colab.research.google.com/github/wcaine93/DS-ML-Project/blob/main/src/data-inspection.ipynb\" target=\"_parent\"><img src=\"https://colab.research.google.com/assets/colab-badge.svg\" alt=\"Open In Colab\"/></a>"
      ]
    },
    {
      "cell_type": "markdown",
      "source": [
        "## Code"
      ],
      "metadata": {
        "id": "vXTsDMK1Bkih"
      }
    },
    {
      "cell_type": "code",
      "source": [
        "# imports\n",
        "import pandas as pd\n",
        "import numpy as np"
      ],
      "metadata": {
        "id": "b1u_YN-QBiH_"
      },
      "execution_count": 2,
      "outputs": []
    },
    {
      "cell_type": "code",
      "source": [
        "# place data in dataframe\n",
        "df = pd.read_csv(\"data/Project_Data.csv\")"
      ],
      "metadata": {
        "id": "rpmtZ1naBiMA"
      },
      "execution_count": 13,
      "outputs": []
    },
    {
      "cell_type": "code",
      "source": [
        "#User defined function for detecting negative numbers in a list of numeric columns of a data frame (It will not work if any column is nonnumeric).\n",
        "\n",
        "def detect_negative_numbers_all(df, columns):\n",
        "    negative_numbers = df.loc[(df[columns] < 0).any(axis=1)]\n",
        "    return negative_numbers"
      ],
      "metadata": {
        "id": "-MEqa9JfQRTx"
      },
      "execution_count": 14,
      "outputs": []
    },
    {
      "cell_type": "code",
      "source": [
        "#User defined function for detecting outliers using quantile methods\n",
        "\n",
        "def detect_outliers(df, column_name):\n",
        "    # Calculate the first and third quartiles\n",
        "    Q1 = df[column_name].quantile(0.25)\n",
        "    Q3 = df[column_name].quantile(0.75)\n",
        "\n",
        "    # Calculate the interquartile range (IQR)\n",
        "    IQR = Q3 - Q1\n",
        "    lower_bound = Q1 - 1.5 * IQR\n",
        "    upper_bound = Q3 + 1.5 * IQR\n",
        "\n",
        "    # Identify outliers using the upper and lower bounds\n",
        "\n",
        "    outliers = df[(df[column_name] < lower_bound) | (df[column_name] > upper_bound)]\n",
        "    return outliers"
      ],
      "metadata": {
        "id": "ZpQX2D_9YBcc"
      },
      "execution_count": 25,
      "outputs": []
    },
    {
      "cell_type": "markdown",
      "source": [
        "## Inspect the Data"
      ],
      "metadata": {
        "id": "sDOSExG1ZMeo"
      }
    },
    {
      "cell_type": "markdown",
      "source": [
        "### Investigate Columns"
      ],
      "metadata": {
        "id": "6ejH_NkzP1bc"
      }
    },
    {
      "cell_type": "code",
      "source": [
        "# column names\n",
        "print(df.columns.values)"
      ],
      "metadata": {
        "colab": {
          "base_uri": "https://localhost:8080/"
        },
        "id": "aUhz8HoaaLl2",
        "outputId": "dc69ec87-25ad-4bd5-8678-d2aff4bc68cf"
      },
      "execution_count": 9,
      "outputs": [
        {
          "output_type": "stream",
          "name": "stdout",
          "text": [
            "['Unnamed: 0' 'Age' 'Gender' 'DaysDrink' 'Overdrawn']\n"
          ]
        }
      ]
    },
    {
      "cell_type": "code",
      "source": [
        "# size of the dataframe\n",
        "print(df.shape) # output in (rows, cols)"
      ],
      "metadata": {
        "colab": {
          "base_uri": "https://localhost:8080/"
        },
        "id": "X5VvgcTVZ_vQ",
        "outputId": "1b8ec0e7-6ffa-4580-a32f-8fdbe9aa0ab3"
      },
      "execution_count": 8,
      "outputs": [
        {
          "output_type": "stream",
          "name": "stdout",
          "text": [
            "(450, 5)\n"
          ]
        }
      ]
    },
    {
      "cell_type": "markdown",
      "source": [
        "450 entries\n",
        "\n",
        "---\n",
        "\n",
        "1 column of indices, 3 columns of features, 1 column of labels\n",
        "\n",
        "**Features**: `Age`, `Gender`, `DaysDrink`\n",
        "\n",
        "**Target**: `Overdrawn`"
      ],
      "metadata": {
        "id": "LKbRNGdkMCa9"
      }
    },
    {
      "cell_type": "code",
      "source": [
        "# data types of each column\n",
        "print(df.dtypes)"
      ],
      "metadata": {
        "colab": {
          "base_uri": "https://localhost:8080/"
        },
        "id": "OiJaTVXfagpV",
        "outputId": "647bf194-5f8c-4123-a087-9a21c44b77c1"
      },
      "execution_count": 10,
      "outputs": [
        {
          "output_type": "stream",
          "name": "stdout",
          "text": [
            "Unnamed: 0      int64\n",
            "Age           float64\n",
            "Gender         object\n",
            "DaysDrink     float64\n",
            "Overdrawn     float64\n",
            "dtype: object\n"
          ]
        }
      ]
    },
    {
      "cell_type": "markdown",
      "source": [
        "`Age`, `DaysDrink` and `Overdrawn` should all be `int` data type (currently `float`)"
      ],
      "metadata": {
        "id": "rPg9VjTJNiPA"
      }
    },
    {
      "cell_type": "code",
      "source": [
        "# basic information about the dataframe\n",
        "print(df.info())"
      ],
      "metadata": {
        "colab": {
          "base_uri": "https://localhost:8080/"
        },
        "id": "HWWH-tuMZUWJ",
        "outputId": "e3934cb7-f060-4b0b-ad41-ebd4627f4a6f"
      },
      "execution_count": 5,
      "outputs": [
        {
          "output_type": "stream",
          "name": "stdout",
          "text": [
            "<class 'pandas.core.frame.DataFrame'>\n",
            "RangeIndex: 450 entries, 0 to 449\n",
            "Data columns (total 5 columns):\n",
            " #   Column      Non-Null Count  Dtype  \n",
            "---  ------      --------------  -----  \n",
            " 0   Unnamed: 0  450 non-null    int64  \n",
            " 1   Age         441 non-null    float64\n",
            " 2   Gender      449 non-null    object \n",
            " 3   DaysDrink   449 non-null    float64\n",
            " 4   Overdrawn   447 non-null    float64\n",
            "dtypes: float64(3), int64(1), object(1)\n",
            "memory usage: 17.7+ KB\n",
            "None\n"
          ]
        }
      ]
    },
    {
      "cell_type": "markdown",
      "source": [
        "`Age` has 9 missing values\n",
        "\n",
        "`Gender` has 1 missing value\n",
        "\n",
        "`DaysDrink` has 1 missing value\n",
        "\n",
        "`Overdrawn` has 3 missing values"
      ],
      "metadata": {
        "id": "bmoI_TGPGFWu"
      }
    },
    {
      "cell_type": "code",
      "source": [
        "# unique values in Gender column\n",
        "print(df['Gender'].unique())"
      ],
      "metadata": {
        "colab": {
          "base_uri": "https://localhost:8080/"
        },
        "id": "XO2tnE05dy3J",
        "outputId": "fc666070-f397-4a1f-ae9b-bb634189456b"
      },
      "execution_count": 19,
      "outputs": [
        {
          "output_type": "stream",
          "name": "stdout",
          "text": [
            "['Female' 'Male' 'F' 'M' nan]\n"
          ]
        }
      ]
    },
    {
      "cell_type": "markdown",
      "source": [
        "`F` and `M` records in `Gender` will need to be change to `Female` and `Male`"
      ],
      "metadata": {
        "id": "XLJB9Sp-SRn5"
      }
    },
    {
      "cell_type": "code",
      "source": [
        "# unique values in Overdrawn column\n",
        "print(df['Overdrawn'].unique())"
      ],
      "metadata": {
        "colab": {
          "base_uri": "https://localhost:8080/"
        },
        "id": "_jXTWUqZSdoE",
        "outputId": "57da330f-f0f1-4af2-b479-458e85aa6e89"
      },
      "execution_count": 20,
      "outputs": [
        {
          "output_type": "stream",
          "name": "stdout",
          "text": [
            "[ 0.  1. nan]\n"
          ]
        }
      ]
    },
    {
      "cell_type": "markdown",
      "source": [
        "Looks good, 0 and 1"
      ],
      "metadata": {
        "id": "ImvijjlQSpVV"
      }
    },
    {
      "cell_type": "markdown",
      "source": [
        "### Investigate Records"
      ],
      "metadata": {
        "id": "C7pvGS-ZP8l8"
      }
    },
    {
      "cell_type": "code",
      "source": [
        "# first 5 rows of the dataframe\n",
        "print(df.head())"
      ],
      "metadata": {
        "colab": {
          "base_uri": "https://localhost:8080/"
        },
        "id": "K_R8gCtoZcld",
        "outputId": "fe06eb5d-1e48-4c1d-d25d-0c7321a24206"
      },
      "execution_count": 6,
      "outputs": [
        {
          "output_type": "stream",
          "name": "stdout",
          "text": [
            "   Unnamed: 0   Age  Gender  DaysDrink  Overdrawn\n",
            "0           1  19.0  Female        3.0        0.0\n",
            "1           2  19.0    Male       20.0        0.0\n",
            "2           3  19.0    Male        6.0        0.0\n",
            "3           4  19.0  Female       10.0        0.0\n",
            "4           5  19.0  Female        0.0        0.0\n"
          ]
        }
      ]
    },
    {
      "cell_type": "code",
      "source": [
        "# last 5 rows of the dataframe\n",
        "print(df.tail())"
      ],
      "metadata": {
        "colab": {
          "base_uri": "https://localhost:8080/"
        },
        "id": "TDHg0slpZ7Ua",
        "outputId": "c52c6701-6779-4380-d455-08a7d466f47f"
      },
      "execution_count": 7,
      "outputs": [
        {
          "output_type": "stream",
          "name": "stdout",
          "text": [
            "     Unnamed: 0   Age  Gender  DaysDrink  Overdrawn\n",
            "445         446  19.0  Female        1.0        0.0\n",
            "446         447  18.0    Male        0.0        0.0\n",
            "447         448  20.0  Female        8.0        1.0\n",
            "448         449  19.0  Female        8.0        0.0\n",
            "449         450  20.0    Male        0.0        0.0\n"
          ]
        }
      ]
    },
    {
      "cell_type": "markdown",
      "source": [
        "Head and tail looks good"
      ],
      "metadata": {
        "id": "VmIr-KUDL5Gs"
      }
    },
    {
      "cell_type": "code",
      "source": [
        "# right duplicate records\n",
        "print(df[df.duplicated()])"
      ],
      "metadata": {
        "colab": {
          "base_uri": "https://localhost:8080/"
        },
        "id": "oPK4i_zkaph8",
        "outputId": "037718e4-7e3c-4f24-940d-fe9a5509fe1a"
      },
      "execution_count": 11,
      "outputs": [
        {
          "output_type": "stream",
          "name": "stdout",
          "text": [
            "Empty DataFrame\n",
            "Columns: [Unnamed: 0, Age, Gender, DaysDrink, Overdrawn]\n",
            "Index: []\n"
          ]
        }
      ]
    },
    {
      "cell_type": "markdown",
      "source": [
        "No duplicate records"
      ],
      "metadata": {
        "id": "tHSlgMfwO3xH"
      }
    },
    {
      "cell_type": "code",
      "source": [
        "# negative records\n",
        "negatives = detect_negative_numbers_all(df, ['Age', 'DaysDrink'])\n",
        "print(negatives)"
      ],
      "metadata": {
        "colab": {
          "base_uri": "https://localhost:8080/"
        },
        "id": "ao2VWTZQa3hA",
        "outputId": "b327fe4a-ba7c-4623-a484-4d64bc2317d9"
      },
      "execution_count": 17,
      "outputs": [
        {
          "output_type": "stream",
          "name": "stdout",
          "text": [
            "Empty DataFrame\n",
            "Columns: [Unnamed: 0, Age, Gender, DaysDrink, Overdrawn]\n",
            "Index: []\n"
          ]
        }
      ]
    },
    {
      "cell_type": "markdown",
      "source": [
        "No negative records"
      ],
      "metadata": {
        "id": "OZ53jhMRRIWE"
      }
    },
    {
      "cell_type": "code",
      "source": [
        "# records with missing data\n",
        "print(df.isnull().sum())\n",
        "print(df[df.isnull().any(axis=1)])"
      ],
      "metadata": {
        "colab": {
          "base_uri": "https://localhost:8080/"
        },
        "id": "p4Mv6_ewcwEp",
        "outputId": "a92fe8b4-0af2-42f5-897c-7b0385a39b93"
      },
      "execution_count": 18,
      "outputs": [
        {
          "output_type": "stream",
          "name": "stdout",
          "text": [
            "Unnamed: 0    0\n",
            "Age           9\n",
            "Gender        1\n",
            "DaysDrink     1\n",
            "Overdrawn     3\n",
            "dtype: int64\n",
            "     Unnamed: 0   Age  Gender  DaysDrink  Overdrawn\n",
            "25           26   NaN    Male        0.0        1.0\n",
            "46           47   NaN  Female        0.0        0.0\n",
            "69           70   NaN  Female        0.0        1.0\n",
            "134         135  18.0    Male        1.0        NaN\n",
            "144         145  19.0    Male        NaN        NaN\n",
            "220         221  20.0     NaN        8.0        0.0\n",
            "271         272   NaN  Female        0.0        1.0\n",
            "291         292   NaN  Female        0.0        0.0\n",
            "323         324   NaN  Female        0.0        0.0\n",
            "364         365   NaN  Female        0.0        0.0\n",
            "368         369   NaN  Female       30.0        0.0\n",
            "386         387   NaN  Female       10.0        1.0\n",
            "423         424  19.0    Male        4.0        NaN\n"
          ]
        }
      ]
    },
    {
      "cell_type": "markdown",
      "source": [
        "9 records missing only `Age`\n",
        "\n",
        "1 record missing only `Gender`\n",
        "\n",
        "2 records missing only `Overdrawn`\n",
        "\n",
        "1 record missing both `DaysDrink` and `Overdrawn`"
      ],
      "metadata": {
        "id": "mDYrqv0URVwq"
      }
    },
    {
      "cell_type": "markdown",
      "source": [
        "### Feature Analysis"
      ],
      "metadata": {
        "id": "Wpo8kZ57Wllr"
      }
    },
    {
      "cell_type": "code",
      "source": [
        "# summary statistics\n",
        "print(df.describe())"
      ],
      "metadata": {
        "colab": {
          "base_uri": "https://localhost:8080/"
        },
        "id": "p0qLmXlvd-Rr",
        "outputId": "2be9ee92-4b77-4e45-da38-b37cea0a5ec7"
      },
      "execution_count": 21,
      "outputs": [
        {
          "output_type": "stream",
          "name": "stdout",
          "text": [
            "       Unnamed: 0         Age   DaysDrink   Overdrawn\n",
            "count  450.000000  441.000000  449.000000  447.000000\n",
            "mean   225.500000   19.616780    6.440980    0.134228\n",
            "std    130.048068    1.370332    7.544021    0.341279\n",
            "min      1.000000   18.000000    0.000000    0.000000\n",
            "25%    113.250000   19.000000    0.000000    0.000000\n",
            "50%    225.500000   19.000000    3.000000    0.000000\n",
            "75%    337.750000   20.000000   10.000000    0.000000\n",
            "max    450.000000   25.000000   30.000000    1.000000\n"
          ]
        }
      ]
    },
    {
      "cell_type": "markdown",
      "source": [
        "`Age` appears to be fairly evenly distributed with a slight right skew\n",
        "\n",
        "`DaysDrink` has an extreme right skew, so it may be good to put it into buckets\n",
        "\n",
        "There are a lot more not `Overdrawn` accounts than yes `Overdrawn` accounts - Naive Bayes model may struggle with such data"
      ],
      "metadata": {
        "id": "ON94NsSjUA8z"
      }
    },
    {
      "cell_type": "markdown",
      "source": [
        "#### Gender"
      ],
      "metadata": {
        "id": "0oIXTqbM0_9R"
      }
    },
    {
      "cell_type": "code",
      "source": [
        "# compare male and female counts\n",
        "num_males = len(df[df['Gender'] == 'Male']) + len(df[df['Gender'] == 'M'])\n",
        "num_females = len(df[df['Gender'] == 'Female']) + len(df[df['Gender'] == 'F'])\n",
        "\n",
        "print(num_males)\n",
        "print(num_females)"
      ],
      "metadata": {
        "colab": {
          "base_uri": "https://localhost:8080/"
        },
        "id": "cpj_PaQj1BqX",
        "outputId": "3a37cb87-f509-4f4a-8ed1-16896fcb16e0"
      },
      "execution_count": 71,
      "outputs": [
        {
          "output_type": "stream",
          "name": "stdout",
          "text": [
            "197\n",
            "252\n"
          ]
        }
      ]
    },
    {
      "cell_type": "markdown",
      "source": [
        "There are 197 males and 252 males in this data set, which is roughly evenly distributed. The odds are 1.28 male to female."
      ],
      "metadata": {
        "id": "0TJQOZHR2f23"
      }
    },
    {
      "cell_type": "markdown",
      "source": [
        "#### Age"
      ],
      "metadata": {
        "id": "-iDInTO3tQHh"
      }
    },
    {
      "cell_type": "code",
      "source": [
        "# histogram of Age\n",
        "print(df['Age'].hist())"
      ],
      "metadata": {
        "colab": {
          "base_uri": "https://localhost:8080/",
          "height": 449
        },
        "id": "xO79G2o7WnZk",
        "outputId": "c67263ff-53d1-4098-8d41-cc49e0c3ea5b"
      },
      "execution_count": 28,
      "outputs": [
        {
          "output_type": "stream",
          "name": "stdout",
          "text": [
            "Axes(0.125,0.11;0.775x0.77)\n"
          ]
        },
        {
          "output_type": "display_data",
          "data": {
            "text/plain": [
              "<Figure size 640x480 with 1 Axes>"
            ],
            "image/png": "[encoded data removed]"
          },
          "metadata": {}
        }
      ]
    },
    {
      "cell_type": "code",
      "source": [
        "# find the outliers of Age\n",
        "outliers = detect_outliers(df, 'Age')\n",
        "print(len(outliers))\n",
        "\n",
        "# see how many ages are within 3 standard deviations of the mean\n",
        "mean_outliers = df[df['Age'] > df['Age'].mean() + 3*df['Age'].std()]\n",
        "print(len(mean_outliers))"
      ],
      "metadata": {
        "colab": {
          "base_uri": "https://localhost:8080/"
        },
        "id": "3Cr1RcM2rC3F",
        "outputId": "0aa8ecf3-8f37-4c94-debf-e1e886c084f4"
      },
      "execution_count": 56,
      "outputs": [
        {
          "output_type": "stream",
          "name": "stdout",
          "text": [
            "43\n",
            "11\n"
          ]
        }
      ]
    },
    {
      "cell_type": "markdown",
      "source": [
        "There are 43 outliers by the IQR (quantiles) method and 11 by the standard deviations method."
      ],
      "metadata": {
        "id": "CGGre6DXsken"
      }
    },
    {
      "cell_type": "code",
      "source": [
        "# scatter plot of Age against DaysDrink\n",
        "print(df.plot.scatter(x='Age', y='DaysDrink'))"
      ],
      "metadata": {
        "colab": {
          "base_uri": "https://localhost:8080/",
          "height": 466
        },
        "id": "4zGGs1tCtniO",
        "outputId": "e4fb71f4-513a-42be-f23f-98ece2ceb52b"
      },
      "execution_count": 54,
      "outputs": [
        {
          "output_type": "stream",
          "name": "stdout",
          "text": [
            "Axes(0.125,0.11;0.775x0.77)\n"
          ]
        },
        {
          "output_type": "display_data",
          "data": {
            "text/plain": [
              "<Figure size 640x480 with 1 Axes>"
            ],
            "image/png": "[encoded data removed]"
          },
          "metadata": {}
        }
      ]
    },
    {
      "cell_type": "markdown",
      "source": [
        "The highest 11 `Age` values (outliers marked by the standard deviations method) correspond to much lower `DaysDrink` values than the other ages, so replacing these with the mean could confound any relationship that might exist between these two quantities when it comes to predicting `Overdrawn`.\n",
        "\n",
        "The ages 18-22 appear to be roughly evenly distributed respect to `DaysDrink`."
      ],
      "metadata": {
        "id": "qcJMW0FTtmVS"
      }
    },
    {
      "cell_type": "markdown",
      "source": [
        "#### DaysDrink"
      ],
      "metadata": {
        "id": "xq6EuktOyJEm"
      }
    },
    {
      "cell_type": "code",
      "source": [
        "# histogram of DaysDrink\n",
        "print(df['DaysDrink'].hist())"
      ],
      "metadata": {
        "colab": {
          "base_uri": "https://localhost:8080/",
          "height": 447
        },
        "id": "mvTyZ3oAyK3L",
        "outputId": "040bf118-9ede-4f15-a54a-e358b7f6f784"
      },
      "execution_count": 55,
      "outputs": [
        {
          "output_type": "stream",
          "name": "stdout",
          "text": [
            "Axes(0.125,0.11;0.775x0.77)\n"
          ]
        },
        {
          "output_type": "display_data",
          "data": {
            "text/plain": [
              "<Figure size 640x480 with 1 Axes>"
            ],
            "image/png": "[encoded data removed]"
          },
          "metadata": {}
        }
      ]
    },
    {
      "cell_type": "code",
      "source": [
        "# find the outliers of DaysDrink\n",
        "outliers = detect_outliers(df, 'DaysDrink')\n",
        "print(len(outliers))\n",
        "\n",
        "print(outliers)"
      ],
      "metadata": {
        "colab": {
          "base_uri": "https://localhost:8080/"
        },
        "id": "s_mIDVSNyVXE",
        "outputId": "4b18059f-a707-4330-a2ad-c231f4cbdbd4"
      },
      "execution_count": 60,
      "outputs": [
        {
          "output_type": "stream",
          "name": "stdout",
          "text": [
            "12\n",
            "     Unnamed: 0   Age  Gender  DaysDrink  Overdrawn\n",
            "35           36  20.0    Male       29.0        0.0\n",
            "49           50  19.0  Female       30.0        0.0\n",
            "119         120  22.0    Male       30.0        1.0\n",
            "221         222  19.0    Male       30.0        0.0\n",
            "250         251  19.0    Male       27.0        0.0\n",
            "269         270  24.0    Male       30.0        0.0\n",
            "270         271  22.0    Male       30.0        0.0\n",
            "272         273  21.0    Male       30.0        0.0\n",
            "326         327  20.0    Male       30.0        0.0\n",
            "368         369   NaN  Female       30.0        0.0\n",
            "397         398  22.0    Male       26.0        0.0\n",
            "434         435  20.0  Female       26.0        1.0\n"
          ]
        }
      ]
    },
    {
      "cell_type": "markdown",
      "source": [
        "There are 12 outliers.\n",
        "\n",
        "`DaysDrink` data is extremely skewed, but with relatively low kurtosis, causing the number of outliers to be low.\n",
        "\n",
        "These outliers contain an uncharacteristic number of males for the data (2.35 relative odds male to female), which may suggest that there is a correlation between `Gender` and `DaysDrink` for the model to learn from."
      ],
      "metadata": {
        "id": "G6F95N_qzSIX"
      }
    }
  ],
  "metadata": {
    "colab": {
      "toc_visible": true,
      "provenance": [],
      "include_colab_link": true
    },
    "kernelspec": {
      "display_name": "Python 3",
      "name": "python3"
    }
  },
  "nbformat": 4,
  "nbformat_minor": 0
}