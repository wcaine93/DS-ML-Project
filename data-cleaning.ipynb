{
  "cells": [
    {
      "cell_type": "markdown",
      "metadata": {
        "id": "view-in-github",
        "colab_type": "text"
      },
      "source": [
        "<a href=\"https://colab.research.google.com/github/wcaine93/DS-ML-Project/blob/main/data-cleaning.ipynb\" target=\"_parent\"><img src=\"https://colab.research.google.com/assets/colab-badge.svg\" alt=\"Open In Colab\"/></a>"
      ]
    },
    {
      "cell_type": "markdown",
      "source": [
        "## Code"
      ],
      "metadata": {
        "id": "vXTsDMK1Bkih"
      }
    },
    {
      "cell_type": "code",
      "source": [
        "# imports\n",
        "import pandas as pd\n",
        "import numpy as np"
      ],
      "metadata": {
        "id": "b1u_YN-QBiH_"
      },
      "execution_count": 111,
      "outputs": []
    },
    {
      "cell_type": "code",
      "source": [
        "# place data in dataframe\n",
        "df = pd.read_csv(\"data/Project_Data.csv\")"
      ],
      "metadata": {
        "id": "dA-V5uBGq38s"
      },
      "execution_count": 112,
      "outputs": []
    },
    {
      "cell_type": "code",
      "source": [
        "#User defined function for dropping  rows that contain outliers\n",
        "\n",
        "def drop_outliers(df, column):\n",
        "    # I've changed the code to use mean and standard deviation method\n",
        "    mean = df[column].mean()\n",
        "    stdev = df[column].std()\n",
        "\n",
        "    lower_bound = mean - 3 * stdev  # Lower bound\n",
        "    upper_bound = mean + 3 * stdev  # Upper bound\n",
        "\n",
        "    # Filter and keep only non-outlier rows\n",
        "    return df[(df[column] >= lower_bound) & (df[column] <= upper_bound)]"
      ],
      "metadata": {
        "id": "JFXtiPNaspN9"
      },
      "execution_count": 113,
      "outputs": []
    },
    {
      "cell_type": "code",
      "source": [
        "#User defined function for substituting outliers with the mean values that do not contain the outliers\n",
        "def replace_outliers(df, column):\n",
        "    Q1 = df[column].quantile(0.25)\n",
        "    Q3 = df[column].quantile(0.75)\n",
        "    IQR = Q3 - Q1\n",
        "    lower_bound = Q1 - 1.5 * IQR\n",
        "    upper_bound = Q3 + 1.5 * IQR\n",
        "\n",
        "    # Identify outliers\n",
        "    outliers = (df[column] < lower_bound) | (df[column] > upper_bound)\n",
        "\n",
        "    # Compute mean without outliers\n",
        "\n",
        "#The .loc[] function in pandas is used for label-based indexing to access specific rows and columns in a DataFrame. It allows for filtering, selecting, and updating data based on labels or boolean conditions. The sign ~ means excluding something. ~outliers means that rows excluding outliers\n",
        "\n",
        "\n",
        "    mean_without_outliers = df.loc[~outliers, column].mean()\n",
        "\n",
        "    # Replace outliers with the mean\n",
        "    df.loc[outliers, column] = mean_without_outliers\n",
        "\n",
        "    return df"
      ],
      "metadata": {
        "id": "vOCp0UFmxtMM"
      },
      "execution_count": 114,
      "outputs": []
    },
    {
      "cell_type": "markdown",
      "source": [
        "## Clean the Data"
      ],
      "metadata": {
        "id": "mVdnkP1vieHT"
      }
    },
    {
      "cell_type": "markdown",
      "source": [
        "#### Duplicate and Negative Values"
      ],
      "metadata": {
        "id": "gFixZIKwlGUH"
      }
    },
    {
      "cell_type": "markdown",
      "source": [
        "In the data inspection, we found that there were no negative values or duplicate records."
      ],
      "metadata": {
        "id": "vGEXu9DSuLxg"
      }
    },
    {
      "cell_type": "markdown",
      "source": [
        "#### Missing Values"
      ],
      "metadata": {
        "id": "v5s1tEThlJpo"
      }
    },
    {
      "cell_type": "markdown",
      "source": [
        "I will remove the records that are missing the `Gender` feature or `Overdrawn` label.\n",
        "\n",
        "I will replace the missing `Age` with the average `Age` (19)."
      ],
      "metadata": {
        "id": "xwI-AF_nkRiU"
      }
    },
    {
      "cell_type": "code",
      "source": [
        "# drop data missing Gender or Overdrawn\n",
        "df.dropna(subset=['Gender', 'Overdrawn'], inplace=True)\n",
        "print(df.shape)"
      ],
      "metadata": {
        "colab": {
          "base_uri": "https://localhost:8080/"
        },
        "id": "4Qzhjrl-lnXL",
        "outputId": "a732be7c-c2b7-4d57-9d7e-76705a4a5157"
      },
      "execution_count": 115,
      "outputs": [
        {
          "output_type": "stream",
          "name": "stdout",
          "text": [
            "(446, 5)\n"
          ]
        }
      ]
    },
    {
      "cell_type": "markdown",
      "source": [
        "4 records were removed, which is consistent with what we found during inspection."
      ],
      "metadata": {
        "id": "bSEuLxyzn5HH"
      }
    },
    {
      "cell_type": "code",
      "source": [
        "# convert missing Age data to mean\n",
        "df['Age'] = df['Age'].fillna(df['Age'].mean())\n",
        "print(df.isnull().sum())"
      ],
      "metadata": {
        "colab": {
          "base_uri": "https://localhost:8080/"
        },
        "id": "cTl3Le2NnZYb",
        "outputId": "8add97e0-ee45-4ef0-d964-c267c7adf0e8"
      },
      "execution_count": 116,
      "outputs": [
        {
          "output_type": "stream",
          "name": "stdout",
          "text": [
            "Unnamed: 0    0\n",
            "Age           0\n",
            "Gender        0\n",
            "DaysDrink     0\n",
            "Overdrawn     0\n",
            "dtype: int64\n"
          ]
        }
      ]
    },
    {
      "cell_type": "markdown",
      "source": [
        "No missing data remains."
      ],
      "metadata": {
        "id": "0xph6C_woLG-"
      }
    },
    {
      "cell_type": "markdown",
      "source": [
        "### Outliers"
      ],
      "metadata": {
        "id": "yTMy5SwMmncs"
      }
    },
    {
      "cell_type": "markdown",
      "source": [
        "#### Age"
      ],
      "metadata": {
        "id": "nRjLJFMAoX13"
      }
    },
    {
      "cell_type": "markdown",
      "source": [
        "Because we found that the `Age` outliers identified the standard deviations method wouldn't integrate well with the data, I will drop these from the data set.\n",
        "\n",
        "The remaining `Age` outliers, identified using the quantiles method, I will replace with the average value (19)."
      ],
      "metadata": {
        "id": "HgC6aTf5wxPG"
      }
    },
    {
      "cell_type": "code",
      "source": [
        "# drop outliers using the standard deviations method\n",
        "df = drop_outliers(df, 'Age')\n",
        "print(df.shape)"
      ],
      "metadata": {
        "colab": {
          "base_uri": "https://localhost:8080/"
        },
        "id": "nYJjWZs6odyD",
        "outputId": "5f9cf0b8-df3c-4f3f-82e4-cb9b4cfe540e"
      },
      "execution_count": 117,
      "outputs": [
        {
          "output_type": "stream",
          "name": "stdout",
          "text": [
            "(435, 5)\n"
          ]
        }
      ]
    },
    {
      "cell_type": "markdown",
      "source": [
        "11 records were removed, which is consistent with what we found during inspection."
      ],
      "metadata": {
        "id": "1p4TyeCOqGv9"
      }
    },
    {
      "cell_type": "code",
      "source": [
        "# replace quantiles outliers with the average Age\n",
        "df = replace_outliers(df, 'Age')"
      ],
      "metadata": {
        "id": "IAuA712eqR0H"
      },
      "execution_count": 118,
      "outputs": []
    },
    {
      "cell_type": "markdown",
      "source": [
        "#### DaysDrink"
      ],
      "metadata": {
        "id": "GXZFP3grqzX6"
      }
    },
    {
      "cell_type": "markdown",
      "source": [
        "Because of the high kurtosis of `DaysDrink` data we found during inspection, I will bin the `DaysDrink` column instead of removing the outliers (see [Data Type Cast](#scrollTo=kijWflTjlcwS&line=1&uniqifier=1))."
      ],
      "metadata": {
        "id": "OZhAJqbWrB8L"
      }
    },
    {
      "cell_type": "markdown",
      "source": [
        "### Data Type Cast"
      ],
      "metadata": {
        "id": "kijWflTjlcwS"
      }
    },
    {
      "cell_type": "markdown",
      "source": [
        "#### DaysDrink"
      ],
      "metadata": {
        "id": "IMv1gpyJxo5D"
      }
    },
    {
      "cell_type": "code",
      "source": [
        "bin1 = df[df['DaysDrink'] == 0]\n",
        "print(len(bin1))\n",
        "bin2 = df[(df['DaysDrink'] >= 1) & (df['DaysDrink'] <= 4)]\n",
        "print(len(bin2))\n",
        "bin3 = df[(df['DaysDrink'] >= 5) & (df['DaysDrink'] <= 10)]\n",
        "print(len(bin3))\n",
        "bin4 = df[(df['DaysDrink'] >= 11) & (df['DaysDrink'] <= 30)]\n",
        "print(len(bin4))"
      ],
      "metadata": {
        "colab": {
          "base_uri": "https://localhost:8080/"
        },
        "id": "rZGTwpXDx189",
        "outputId": "5e38c094-0233-4caa-dcdc-8d2a91d0d0b6"
      },
      "execution_count": 119,
      "outputs": [
        {
          "output_type": "stream",
          "name": "stdout",
          "text": [
            "126\n",
            "113\n",
            "93\n",
            "103\n"
          ]
        }
      ]
    },
    {
      "cell_type": "markdown",
      "source": [
        "I have chosen the above bins because they roughly evenly distribute the data:\n",
        "\n",
        "\\\\\n",
        "\n",
        "Does not drink (\"None\"): `DaysDrink == 0`\n",
        "\n",
        "Barely drinks (\"Low\"): `1 <= DaysDrink <= 4`\n",
        "\n",
        "Drinks somewhat (\"Moderate\"): `5 <= DaysDrink <= 10`\n",
        "\n",
        "Drnks a lot (\"High\"): `11 <= DaysDrink`\n"
      ],
      "metadata": {
        "id": "H-u55iOMxw--"
      }
    },
    {
      "cell_type": "code",
      "source": [
        "# cut DaysDrink into chosen bins\n",
        "bins = [-1, 0, 4, 10, 999]\n",
        "labels = ['None', 'Low', 'Moderate', 'High']\n",
        "df['DaysDrink'] = pd.cut(df['DaysDrink'], bins=bins, labels=labels)"
      ],
      "metadata": {
        "colab": {
          "base_uri": "https://localhost:8080/"
        },
        "id": "2eH1WtLVz0L_",
        "outputId": "e0dff66c-a67a-4680-ef46-a115cc502299"
      },
      "execution_count": 120,
      "outputs": [
        {
          "output_type": "stream",
          "name": "stderr",
          "text": [
            "<ipython-input-120-406899a988fa>:4: SettingWithCopyWarning: \n",
            "A value is trying to be set on a copy of a slice from a DataFrame.\n",
            "Try using .loc[row_indexer,col_indexer] = value instead\n",
            "\n",
            "See the caveats in the documentation: https://pandas.pydata.org/pandas-docs/stable/user_guide/indexing.html#returning-a-view-versus-a-copy\n",
            "  df['DaysDrink'] = pd.cut(df['DaysDrink'], bins=bins, labels=labels)\n"
          ]
        }
      ]
    },
    {
      "cell_type": "markdown",
      "source": [
        "#### Gender"
      ],
      "metadata": {
        "id": "GCxWp9F_2zmh"
      }
    },
    {
      "cell_type": "markdown",
      "source": [
        "We will remove inconsistent values in `Gender` and create binary columns for if a record corresponds to a male or a female."
      ],
      "metadata": {
        "id": "p5_aSgPe6Ged"
      }
    },
    {
      "cell_type": "code",
      "source": [
        "# make Gender data consistent (M -> Male, F -> Female)\n",
        "df['Gender'] = df['Gender'].map({\"Male\": \"Male\", \"M\": \"Male\", \"Female\": \"Female\", \"F\": \"Female\"})\n",
        "print(df['Gender'].unique())"
      ],
      "metadata": {
        "colab": {
          "base_uri": "https://localhost:8080/"
        },
        "id": "ctPIegxSoDNR",
        "outputId": "7eb064f6-b995-4c01-8022-5b37d3f7427f"
      },
      "execution_count": 121,
      "outputs": [
        {
          "output_type": "stream",
          "name": "stdout",
          "text": [
            "['Female' 'Male']\n"
          ]
        },
        {
          "output_type": "stream",
          "name": "stderr",
          "text": [
            "<ipython-input-121-f3206ff6dc70>:2: SettingWithCopyWarning: \n",
            "A value is trying to be set on a copy of a slice from a DataFrame.\n",
            "Try using .loc[row_indexer,col_indexer] = value instead\n",
            "\n",
            "See the caveats in the documentation: https://pandas.pydata.org/pandas-docs/stable/user_guide/indexing.html#returning-a-view-versus-a-copy\n",
            "  df['Gender'] = df['Gender'].map({\"Male\": \"Male\", \"M\": \"Male\", \"Female\": \"Female\", \"F\": \"Female\"})\n"
          ]
        }
      ]
    },
    {
      "cell_type": "code",
      "source": [
        "# create columns for numeric Gender data (and order columns for final format)\n",
        "df = pd.DataFrame(\n",
        "    {\n",
        "        'Gender': df['Gender'],\n",
        "        'Gender_Male': df['Gender'].map({\"Male\": 1, \"Female\": 0}),\n",
        "        'Gender_Female': df['Gender'].map({\"Male\": 0, \"Female\": 1}),\n",
        "        'Age': df['Age'],\n",
        "        'DaysDrink': df['DaysDrink'],\n",
        "        'Overdrawn': df['Overdrawn']\n",
        "    }\n",
        "    )\n",
        "print(df.info())"
      ],
      "metadata": {
        "colab": {
          "base_uri": "https://localhost:8080/"
        },
        "id": "knLcx0bQo5Xh",
        "outputId": "85085b8e-b232-485d-d833-35d234241a3d"
      },
      "execution_count": 122,
      "outputs": [
        {
          "output_type": "stream",
          "name": "stdout",
          "text": [
            "<class 'pandas.core.frame.DataFrame'>\n",
            "Index: 435 entries, 0 to 449\n",
            "Data columns (total 6 columns):\n",
            " #   Column         Non-Null Count  Dtype   \n",
            "---  ------         --------------  -----   \n",
            " 0   Gender         435 non-null    object  \n",
            " 1   Gender_Male    435 non-null    int64   \n",
            " 2   Gender_Female  435 non-null    int64   \n",
            " 3   Age            435 non-null    float64 \n",
            " 4   DaysDrink      435 non-null    category\n",
            " 5   Overdrawn      435 non-null    float64 \n",
            "dtypes: category(1), float64(2), int64(2), object(1)\n",
            "memory usage: 21.0+ KB\n",
            "None\n"
          ]
        }
      ]
    },
    {
      "cell_type": "markdown",
      "source": [
        "#### Age"
      ],
      "metadata": {
        "id": "hrw5KOQW3NP7"
      }
    },
    {
      "cell_type": "code",
      "source": [
        "df['Age'] = df['Age'].astype('int64')"
      ],
      "metadata": {
        "id": "sV2R24bE3oXo"
      },
      "execution_count": 123,
      "outputs": []
    },
    {
      "cell_type": "markdown",
      "source": [
        "#### Overdrawn"
      ],
      "metadata": {
        "id": "LKhus-6a9Mes"
      }
    },
    {
      "cell_type": "code",
      "source": [
        "df['Overdrawn'] = df['Overdrawn'].astype('int64')"
      ],
      "metadata": {
        "id": "WresZx6k9g1l"
      },
      "execution_count": 124,
      "outputs": []
    },
    {
      "cell_type": "markdown",
      "source": [
        "## Final Data"
      ],
      "metadata": {
        "id": "5LsSDj589kbc"
      }
    },
    {
      "cell_type": "code",
      "source": [
        "print(df.shape)\n",
        "print(df.info())"
      ],
      "metadata": {
        "colab": {
          "base_uri": "https://localhost:8080/"
        },
        "id": "d8I0XSuB9uTc",
        "outputId": "1310d6a1-0335-4ad1-b654-3fe2c7e5e23e"
      },
      "execution_count": 126,
      "outputs": [
        {
          "output_type": "stream",
          "name": "stdout",
          "text": [
            "(435, 6)\n",
            "<class 'pandas.core.frame.DataFrame'>\n",
            "Index: 435 entries, 0 to 449\n",
            "Data columns (total 6 columns):\n",
            " #   Column         Non-Null Count  Dtype   \n",
            "---  ------         --------------  -----   \n",
            " 0   Gender         435 non-null    object  \n",
            " 1   Gender_Male    435 non-null    int64   \n",
            " 2   Gender_Female  435 non-null    int64   \n",
            " 3   Age            435 non-null    int64   \n",
            " 4   DaysDrink      435 non-null    category\n",
            " 5   Overdrawn      435 non-null    int64   \n",
            "dtypes: category(1), int64(4), object(1)\n",
            "memory usage: 21.0+ KB\n",
            "None\n"
          ]
        }
      ]
    },
    {
      "cell_type": "code",
      "source": [
        "df.to_csv('data/clean_data.csv')"
      ],
      "metadata": {
        "id": "uXu8Wcylm79D"
      },
      "execution_count": 128,
      "outputs": []
    },
    {
      "cell_type": "markdown",
      "source": [
        "## Reference for decisions\n",
        "\n",
        "Kang H. (2013). The prevention and handling of the missing data. *Korean journal of anesthesiology, 64(5), 402–406*. https://doi.org/10.4097/kjae.2013.64.5.402"
      ],
      "metadata": {
        "id": "ixLNvdN_qh0h"
      }
    }
  ],
  "metadata": {
    "colab": {
      "provenance": [],
      "include_colab_link": true
    },
    "kernelspec": {
      "display_name": "Python 3",
      "name": "python3"
    }
  },
  "nbformat": 4,
  "nbformat_minor": 0
}